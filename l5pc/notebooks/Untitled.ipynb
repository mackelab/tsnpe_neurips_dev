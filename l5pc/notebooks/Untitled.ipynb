{
 "cells": [
  {
   "cell_type": "code",
   "execution_count": 2,
   "id": "203a1cb5-86a0-4c76-9f93-9e1b0afcbb6e",
   "metadata": {},
   "outputs": [],
   "source": [
    "%load_ext autoreload\n",
    "%autoreload 2"
   ]
  },
  {
   "cell_type": "code",
   "execution_count": 8,
   "id": "914c3c38-1336-4c47-be29-c43077cded4e",
   "metadata": {},
   "outputs": [],
   "source": [
    "a = 1\n",
    "import numpy as np"
   ]
  },
  {
   "cell_type": "code",
   "execution_count": 9,
   "id": "d5b411fb-7f5b-4200-afad-039b5bd2932b",
   "metadata": {},
   "outputs": [],
   "source": [
    "parameter_set = prior.sample((3,))"
   ]
  },
  {
   "cell_type": "code",
   "execution_count": 10,
   "id": "b4c232f2-8028-4e58-9e36-2917991bee61",
   "metadata": {},
   "outputs": [],
   "source": [
    "p = np.array_split(parameter_set, 3)"
   ]
  },
  {
   "cell_type": "code",
   "execution_count": 17,
   "id": "78f63400-6fac-4e61-8253-86190e421c87",
   "metadata": {},
   "outputs": [
    {
     "data": {
      "text/plain": [
       "3"
      ]
     },
     "execution_count": 17,
     "metadata": {},
     "output_type": "execute_result"
    }
   ],
   "source": [
    "len(parameter_set)"
   ]
  },
  {
   "cell_type": "code",
   "execution_count": 16,
   "id": "ec5f961d-271d-462f-95f9-87648e62eb7e",
   "metadata": {},
   "outputs": [
    {
     "ename": "KeyError",
     "evalue": "0",
     "output_type": "error",
     "traceback": [
      "\u001b[0;31m---------------------------------------------------------------------------\u001b[0m",
      "\u001b[0;31mValueError\u001b[0m                                Traceback (most recent call last)",
      "File \u001b[0;32m~/anaconda3/envs/tsnpe/lib/python3.8/site-packages/pandas/core/indexes/range.py:385\u001b[0m, in \u001b[0;36mRangeIndex.get_loc\u001b[0;34m(self, key, method, tolerance)\u001b[0m\n\u001b[1;32m    384\u001b[0m \u001b[38;5;28;01mtry\u001b[39;00m:\n\u001b[0;32m--> 385\u001b[0m     \u001b[38;5;28;01mreturn\u001b[39;00m \u001b[38;5;28;43mself\u001b[39;49m\u001b[38;5;241;43m.\u001b[39;49m\u001b[43m_range\u001b[49m\u001b[38;5;241;43m.\u001b[39;49m\u001b[43mindex\u001b[49m\u001b[43m(\u001b[49m\u001b[43mnew_key\u001b[49m\u001b[43m)\u001b[49m\n\u001b[1;32m    386\u001b[0m \u001b[38;5;28;01mexcept\u001b[39;00m \u001b[38;5;167;01mValueError\u001b[39;00m \u001b[38;5;28;01mas\u001b[39;00m err:\n",
      "\u001b[0;31mValueError\u001b[0m: 0 is not in range",
      "\nThe above exception was the direct cause of the following exception:\n",
      "\u001b[0;31mKeyError\u001b[0m                                  Traceback (most recent call last)",
      "Input \u001b[0;32mIn [16]\u001b[0m, in \u001b[0;36m<cell line: 1>\u001b[0;34m()\u001b[0m\n\u001b[0;32m----> 1\u001b[0m \u001b[43mp\u001b[49m\u001b[43m[\u001b[49m\u001b[38;5;241;43m2\u001b[39;49m\u001b[43m]\u001b[49m\u001b[38;5;241;43m.\u001b[39;49m\u001b[43mloc\u001b[49m\u001b[43m[\u001b[49m\u001b[38;5;241;43m0\u001b[39;49m\u001b[43m]\u001b[49m\n",
      "File \u001b[0;32m~/anaconda3/envs/tsnpe/lib/python3.8/site-packages/pandas/core/indexing.py:967\u001b[0m, in \u001b[0;36m_LocationIndexer.__getitem__\u001b[0;34m(self, key)\u001b[0m\n\u001b[1;32m    964\u001b[0m axis \u001b[38;5;241m=\u001b[39m \u001b[38;5;28mself\u001b[39m\u001b[38;5;241m.\u001b[39maxis \u001b[38;5;129;01mor\u001b[39;00m \u001b[38;5;241m0\u001b[39m\n\u001b[1;32m    966\u001b[0m maybe_callable \u001b[38;5;241m=\u001b[39m com\u001b[38;5;241m.\u001b[39mapply_if_callable(key, \u001b[38;5;28mself\u001b[39m\u001b[38;5;241m.\u001b[39mobj)\n\u001b[0;32m--> 967\u001b[0m \u001b[38;5;28;01mreturn\u001b[39;00m \u001b[38;5;28;43mself\u001b[39;49m\u001b[38;5;241;43m.\u001b[39;49m\u001b[43m_getitem_axis\u001b[49m\u001b[43m(\u001b[49m\u001b[43mmaybe_callable\u001b[49m\u001b[43m,\u001b[49m\u001b[43m \u001b[49m\u001b[43maxis\u001b[49m\u001b[38;5;241;43m=\u001b[39;49m\u001b[43maxis\u001b[49m\u001b[43m)\u001b[49m\n",
      "File \u001b[0;32m~/anaconda3/envs/tsnpe/lib/python3.8/site-packages/pandas/core/indexing.py:1202\u001b[0m, in \u001b[0;36m_LocIndexer._getitem_axis\u001b[0;34m(self, key, axis)\u001b[0m\n\u001b[1;32m   1200\u001b[0m \u001b[38;5;66;03m# fall thru to straight lookup\u001b[39;00m\n\u001b[1;32m   1201\u001b[0m \u001b[38;5;28mself\u001b[39m\u001b[38;5;241m.\u001b[39m_validate_key(key, axis)\n\u001b[0;32m-> 1202\u001b[0m \u001b[38;5;28;01mreturn\u001b[39;00m \u001b[38;5;28;43mself\u001b[39;49m\u001b[38;5;241;43m.\u001b[39;49m\u001b[43m_get_label\u001b[49m\u001b[43m(\u001b[49m\u001b[43mkey\u001b[49m\u001b[43m,\u001b[49m\u001b[43m \u001b[49m\u001b[43maxis\u001b[49m\u001b[38;5;241;43m=\u001b[39;49m\u001b[43maxis\u001b[49m\u001b[43m)\u001b[49m\n",
      "File \u001b[0;32m~/anaconda3/envs/tsnpe/lib/python3.8/site-packages/pandas/core/indexing.py:1153\u001b[0m, in \u001b[0;36m_LocIndexer._get_label\u001b[0;34m(self, label, axis)\u001b[0m\n\u001b[1;32m   1151\u001b[0m \u001b[38;5;28;01mdef\u001b[39;00m \u001b[38;5;21m_get_label\u001b[39m(\u001b[38;5;28mself\u001b[39m, label, axis: \u001b[38;5;28mint\u001b[39m):\n\u001b[1;32m   1152\u001b[0m     \u001b[38;5;66;03m# GH#5667 this will fail if the label is not present in the axis.\u001b[39;00m\n\u001b[0;32m-> 1153\u001b[0m     \u001b[38;5;28;01mreturn\u001b[39;00m \u001b[38;5;28;43mself\u001b[39;49m\u001b[38;5;241;43m.\u001b[39;49m\u001b[43mobj\u001b[49m\u001b[38;5;241;43m.\u001b[39;49m\u001b[43mxs\u001b[49m\u001b[43m(\u001b[49m\u001b[43mlabel\u001b[49m\u001b[43m,\u001b[49m\u001b[43m \u001b[49m\u001b[43maxis\u001b[49m\u001b[38;5;241;43m=\u001b[39;49m\u001b[43maxis\u001b[49m\u001b[43m)\u001b[49m\n",
      "File \u001b[0;32m~/anaconda3/envs/tsnpe/lib/python3.8/site-packages/pandas/core/generic.py:3864\u001b[0m, in \u001b[0;36mNDFrame.xs\u001b[0;34m(self, key, axis, level, drop_level)\u001b[0m\n\u001b[1;32m   3862\u001b[0m             new_index \u001b[38;5;241m=\u001b[39m index[loc]\n\u001b[1;32m   3863\u001b[0m \u001b[38;5;28;01melse\u001b[39;00m:\n\u001b[0;32m-> 3864\u001b[0m     loc \u001b[38;5;241m=\u001b[39m \u001b[43mindex\u001b[49m\u001b[38;5;241;43m.\u001b[39;49m\u001b[43mget_loc\u001b[49m\u001b[43m(\u001b[49m\u001b[43mkey\u001b[49m\u001b[43m)\u001b[49m\n\u001b[1;32m   3866\u001b[0m     \u001b[38;5;28;01mif\u001b[39;00m \u001b[38;5;28misinstance\u001b[39m(loc, np\u001b[38;5;241m.\u001b[39mndarray):\n\u001b[1;32m   3867\u001b[0m         \u001b[38;5;28;01mif\u001b[39;00m loc\u001b[38;5;241m.\u001b[39mdtype \u001b[38;5;241m==\u001b[39m np\u001b[38;5;241m.\u001b[39mbool_:\n",
      "File \u001b[0;32m~/anaconda3/envs/tsnpe/lib/python3.8/site-packages/pandas/core/indexes/range.py:387\u001b[0m, in \u001b[0;36mRangeIndex.get_loc\u001b[0;34m(self, key, method, tolerance)\u001b[0m\n\u001b[1;32m    385\u001b[0m         \u001b[38;5;28;01mreturn\u001b[39;00m \u001b[38;5;28mself\u001b[39m\u001b[38;5;241m.\u001b[39m_range\u001b[38;5;241m.\u001b[39mindex(new_key)\n\u001b[1;32m    386\u001b[0m     \u001b[38;5;28;01mexcept\u001b[39;00m \u001b[38;5;167;01mValueError\u001b[39;00m \u001b[38;5;28;01mas\u001b[39;00m err:\n\u001b[0;32m--> 387\u001b[0m         \u001b[38;5;28;01mraise\u001b[39;00m \u001b[38;5;167;01mKeyError\u001b[39;00m(key) \u001b[38;5;28;01mfrom\u001b[39;00m \u001b[38;5;21;01merr\u001b[39;00m\n\u001b[1;32m    388\u001b[0m \u001b[38;5;28mself\u001b[39m\u001b[38;5;241m.\u001b[39m_check_indexing_error(key)\n\u001b[1;32m    389\u001b[0m \u001b[38;5;28;01mraise\u001b[39;00m \u001b[38;5;167;01mKeyError\u001b[39;00m(key)\n",
      "\u001b[0;31mKeyError\u001b[0m: 0"
     ]
    }
   ],
   "source": [
    "p[2].loc[0]"
   ]
  },
  {
   "cell_type": "code",
   "execution_count": 4,
   "id": "ba91b977-8700-4785-881e-823350d061a7",
   "metadata": {},
   "outputs": [
    {
     "data": {
      "text/plain": [
       "AB/PD     Na       236.475113\n",
       "          CaT        5.001752\n",
       "          CaS        6.070589\n",
       "          A         57.219791\n",
       "          KCa       13.460739\n",
       "          Kd       110.183891\n",
       "          H          0.014565\n",
       "          Leak       0.000629\n",
       "LP        Na        31.008839\n",
       "          CaT        2.162581\n",
       "          CaS       11.752544\n",
       "          A         25.517145\n",
       "          KCa        9.083657\n",
       "          Kd       123.397957\n",
       "          H          0.023155\n",
       "          Leak       0.031273\n",
       "PY        Na       397.170776\n",
       "          CaT       11.859902\n",
       "          CaS        1.473160\n",
       "          A         58.609161\n",
       "          KCa        2.704818\n",
       "          Kd       142.555054\n",
       "          H          0.041542\n",
       "          Leak       0.035276\n",
       "Synapses  AB-LP     -6.052121\n",
       "          PD-LP     -8.451645\n",
       "          AB-PY     -7.886857\n",
       "          PD-PY    -17.997303\n",
       "          LP-PD    -10.336865\n",
       "          LP-PY    -13.810649\n",
       "          PY-LP    -13.749743\n",
       "Name: 0, dtype: float32"
      ]
     },
     "execution_count": 4,
     "metadata": {},
     "output_type": "execute_result"
    }
   ],
   "source": [
    "parameter_set.iloc[0]"
   ]
  },
  {
   "cell_type": "code",
   "execution_count": 1,
   "id": "4904981a-8005-4a71-bb54-732d35eaf60b",
   "metadata": {},
   "outputs": [
    {
     "name": "stderr",
     "output_type": "stream",
     "text": [
      "In file included from /home/mdeistler57/anaconda3/envs/tsnpe/lib/python3.8/site-packages/numpy/core/include/numpy/ndarraytypes.h:1960:0,\n",
      "                 from /home/mdeistler57/anaconda3/envs/tsnpe/lib/python3.8/site-packages/numpy/core/include/numpy/ndarrayobject.h:12,\n",
      "                 from /home/mdeistler57/anaconda3/envs/tsnpe/lib/python3.8/site-packages/numpy/core/include/numpy/arrayobject.h:5,\n",
      "                 from /home/mdeistler57/.pyxbld/temp.linux-x86_64-3.8/pyrex/pyloric/simulator.c:688:\n",
      "/home/mdeistler57/anaconda3/envs/tsnpe/lib/python3.8/site-packages/numpy/core/include/numpy/npy_1_7_deprecated_api.h:17:2: warning: #warning \"Using deprecated NumPy API, disable it with \" \"#define NPY_NO_DEPRECATED_API NPY_1_7_API_VERSION\" [-Wcpp]\n",
      " #warning \"Using deprecated NumPy API, disable it with \" \\\n",
      "  ^~~~~~~\n",
      "/home/mdeistler57/.pyxbld/temp.linux-x86_64-3.8/pyrex/pyloric/simulator.c: In function ‘__pyx_pf_7pyloric_9simulator_sim_time’:\n",
      "/home/mdeistler57/.pyxbld/temp.linux-x86_64-3.8/pyrex/pyloric/simulator.c:7017:37: warning: comparison between signed and unsigned integer expressions [-Wsign-compare]\n",
      "     for (__pyx_t_90 = 0; __pyx_t_90 < __pyx_t_89; __pyx_t_90+=1) {\n",
      "                                     ^\n",
      "/home/mdeistler57/.pyxbld/temp.linux-x86_64-3.8/pyrex/pyloric/simulator.c:7539:37: warning: comparison between signed and unsigned integer expressions [-Wsign-compare]\n",
      "     for (__pyx_t_90 = 0; __pyx_t_90 < __pyx_t_89; __pyx_t_90+=1) {\n",
      "                                     ^\n",
      "/home/mdeistler57/.pyxbld/temp.linux-x86_64-3.8/pyrex/pyloric/simulator.c:7759:37: warning: comparison between signed and unsigned integer expressions [-Wsign-compare]\n",
      "     for (__pyx_t_90 = 0; __pyx_t_90 < __pyx_t_89; __pyx_t_90+=1) {\n",
      "                                     ^\n",
      "/home/mdeistler57/.pyxbld/temp.linux-x86_64-3.8/pyrex/pyloric/simulator.c:8039:35: warning: comparison between signed and unsigned integer expressions [-Wsign-compare]\n",
      "   for (__pyx_t_90 = 0; __pyx_t_90 < __pyx_t_89; __pyx_t_90+=1) {\n",
      "                                   ^\n",
      "/home/mdeistler57/.pyxbld/temp.linux-x86_64-3.8/pyrex/pyloric/simulator.c:8262:37: warning: comparison between signed and unsigned integer expressions [-Wsign-compare]\n",
      "     for (__pyx_t_90 = 0; __pyx_t_90 < __pyx_t_89; __pyx_t_90+=1) {\n",
      "                                     ^\n",
      "/home/mdeistler57/.pyxbld/temp.linux-x86_64-3.8/pyrex/pyloric/simulator.c:8317:37: warning: comparison between signed and unsigned integer expressions [-Wsign-compare]\n",
      "     for (__pyx_t_90 = 0; __pyx_t_90 < __pyx_t_89; __pyx_t_90+=1) {\n",
      "                                     ^\n",
      "/home/mdeistler57/.pyxbld/temp.linux-x86_64-3.8/pyrex/pyloric/simulator.c:8386:39: warning: comparison between signed and unsigned integer expressions [-Wsign-compare]\n",
      "       for (__pyx_t_90 = 0; __pyx_t_90 < __pyx_t_89; __pyx_t_90+=1) {\n",
      "                                       ^\n",
      "/home/mdeistler57/.pyxbld/temp.linux-x86_64-3.8/pyrex/pyloric/simulator.c:8548:39: warning: comparison between signed and unsigned integer expressions [-Wsign-compare]\n",
      "       for (__pyx_t_90 = 0; __pyx_t_90 < __pyx_t_89; __pyx_t_90+=1) {\n",
      "                                       ^\n",
      "/home/mdeistler57/.pyxbld/temp.linux-x86_64-3.8/pyrex/pyloric/simulator.c:8585:37: warning: comparison between signed and unsigned integer expressions [-Wsign-compare]\n",
      "     for (__pyx_t_90 = 0; __pyx_t_90 < __pyx_t_89; __pyx_t_90+=1) {\n",
      "                                     ^\n",
      "/home/mdeistler57/.pyxbld/temp.linux-x86_64-3.8/pyrex/pyloric/simulator.c:9254:37: warning: comparison between signed and unsigned integer expressions [-Wsign-compare]\n",
      "     for (__pyx_t_90 = 0; __pyx_t_90 < __pyx_t_89; __pyx_t_90+=1) {\n",
      "                                     ^\n",
      "/home/mdeistler57/.pyxbld/temp.linux-x86_64-3.8/pyrex/pyloric/simulator.c:9729:37: warning: comparison between signed and unsigned integer expressions [-Wsign-compare]\n",
      "     for (__pyx_t_90 = 0; __pyx_t_90 < __pyx_t_89; __pyx_t_90+=1) {\n",
      "                                     ^\n"
     ]
    }
   ],
   "source": [
    "from pyloric import simulate, create_prior, summary_stats\n",
    "prior = create_prior()\n",
    "parameter_set = prior.sample((1,))\n",
    "simulation_output = simulate(parameter_set.loc[0])\n",
    "summary_statistics = summary_stats(simulation_output)"
   ]
  },
  {
   "cell_type": "code",
   "execution_count": 2,
   "id": "9afbe60a-1658-4432-af77-535551ea9086",
   "metadata": {},
   "outputs": [
    {
     "data": {
      "text/html": [
       "<div>\n",
       "<style scoped>\n",
       "    .dataframe tbody tr th:only-of-type {\n",
       "        vertical-align: middle;\n",
       "    }\n",
       "\n",
       "    .dataframe tbody tr th {\n",
       "        vertical-align: top;\n",
       "    }\n",
       "\n",
       "    .dataframe thead tr th {\n",
       "        text-align: left;\n",
       "    }\n",
       "</style>\n",
       "<table border=\"1\" class=\"dataframe\">\n",
       "  <thead>\n",
       "    <tr>\n",
       "      <th></th>\n",
       "      <th colspan=\"8\" halign=\"left\">AB/PD</th>\n",
       "      <th colspan=\"2\" halign=\"left\">LP</th>\n",
       "      <th>...</th>\n",
       "      <th colspan=\"3\" halign=\"left\">PY</th>\n",
       "      <th colspan=\"7\" halign=\"left\">Synapses</th>\n",
       "    </tr>\n",
       "    <tr>\n",
       "      <th></th>\n",
       "      <th>Na</th>\n",
       "      <th>CaT</th>\n",
       "      <th>CaS</th>\n",
       "      <th>A</th>\n",
       "      <th>KCa</th>\n",
       "      <th>Kd</th>\n",
       "      <th>H</th>\n",
       "      <th>Leak</th>\n",
       "      <th>Na</th>\n",
       "      <th>CaT</th>\n",
       "      <th>...</th>\n",
       "      <th>Kd</th>\n",
       "      <th>H</th>\n",
       "      <th>Leak</th>\n",
       "      <th>AB-LP</th>\n",
       "      <th>PD-LP</th>\n",
       "      <th>AB-PY</th>\n",
       "      <th>PD-PY</th>\n",
       "      <th>LP-PD</th>\n",
       "      <th>LP-PY</th>\n",
       "      <th>PY-LP</th>\n",
       "    </tr>\n",
       "  </thead>\n",
       "  <tbody>\n",
       "    <tr>\n",
       "      <th>0</th>\n",
       "      <td>236.475113</td>\n",
       "      <td>5.001752</td>\n",
       "      <td>6.070589</td>\n",
       "      <td>57.219791</td>\n",
       "      <td>13.460739</td>\n",
       "      <td>110.183891</td>\n",
       "      <td>0.014565</td>\n",
       "      <td>0.000629</td>\n",
       "      <td>31.008839</td>\n",
       "      <td>2.162581</td>\n",
       "      <td>...</td>\n",
       "      <td>142.555054</td>\n",
       "      <td>0.041542</td>\n",
       "      <td>0.035276</td>\n",
       "      <td>-6.052121</td>\n",
       "      <td>-8.451645</td>\n",
       "      <td>-7.886857</td>\n",
       "      <td>-17.997303</td>\n",
       "      <td>-10.336865</td>\n",
       "      <td>-13.810649</td>\n",
       "      <td>-13.749743</td>\n",
       "    </tr>\n",
       "  </tbody>\n",
       "</table>\n",
       "<p>1 rows × 31 columns</p>\n",
       "</div>"
      ],
      "text/plain": [
       "        AB/PD                                                                  \\\n",
       "           Na       CaT       CaS          A        KCa          Kd         H   \n",
       "0  236.475113  5.001752  6.070589  57.219791  13.460739  110.183891  0.014565   \n",
       "\n",
       "                    LP            ...          PY                      \\\n",
       "       Leak         Na       CaT  ...          Kd         H      Leak   \n",
       "0  0.000629  31.008839  2.162581  ...  142.555054  0.041542  0.035276   \n",
       "\n",
       "   Synapses                                                                  \n",
       "      AB-LP     PD-LP     AB-PY      PD-PY      LP-PD      LP-PY      PY-LP  \n",
       "0 -6.052121 -8.451645 -7.886857 -17.997303 -10.336865 -13.810649 -13.749743  \n",
       "\n",
       "[1 rows x 31 columns]"
      ]
     },
     "execution_count": 2,
     "metadata": {},
     "output_type": "execute_result"
    }
   ],
   "source": [
    "parameter_set"
   ]
  },
  {
   "cell_type": "code",
   "execution_count": 4,
   "id": "be2c3063-9167-479a-8a4a-33529294cc64",
   "metadata": {},
   "outputs": [],
   "source": [
    "import torch\n",
    "import matplotlib.pyplot as plt\n",
    "from torch import ones, zeros, eye, as_tensor, tensor, float32\n",
    "import matplotlib as mpl\n",
    "import numpy as np\n",
    "from torch.distributions import MultivariateNormal\n",
    "from sbi.utils import BoxUniform"
   ]
  },
  {
   "cell_type": "code",
   "execution_count": 5,
   "id": "2b1b7f02-fdd3-431a-a3e1-622966c2f7f7",
   "metadata": {},
   "outputs": [
    {
     "name": "stdout",
     "output_type": "stream",
     "text": [
      "Connecting root@134.2.168.121:3306\n"
     ]
    }
   ],
   "source": [
    "from l5pc.utils.common_utils import (\n",
    "    load_prior,\n",
    "    extract_bounds,\n",
    "    load_posterior,\n",
    ")\n",
    "from l5pc.utils.model_utils import (\n",
    "    replace_nan,\n",
    "    add_observation_noise,\n",
    ")\n",
    "from l5pc.model.utils import return_gt, return_x_names, return_names\n",
    "import pandas as pd\n",
    "from sbi.analysis import pairplot"
   ]
  },
  {
   "cell_type": "code",
   "execution_count": 6,
   "id": "b1e11711-ddc6-4fc5-b573-cbba10cf5333",
   "metadata": {},
   "outputs": [],
   "source": [
    "from l5pc.model import L5PC_20D_theta, L5PC_20D_x, summstats_l5pc"
   ]
  },
  {
   "cell_type": "code",
   "execution_count": 71,
   "id": "2d8721f3-f5fe-4b45-9173-70dc7183a1b7",
   "metadata": {},
   "outputs": [],
   "source": [
    "from sbi.analysis import pairplot, marginal_plot"
   ]
  },
  {
   "cell_type": "code",
   "execution_count": 149,
   "id": "dbbad5d1-bd09-4173-9c80-1d698259a37e",
   "metadata": {},
   "outputs": [],
   "source": [
    "from l5pc.model.simulator import setup_l5pc, simulate_l5pc\n",
    "from l5pc.model.summstats import summstats_l5pc"
   ]
  },
  {
   "cell_type": "code",
   "execution_count": 7,
   "id": "f5f9774b-44fb-4a7d-b755-33b9ff30e7ef",
   "metadata": {},
   "outputs": [],
   "source": [
    "from l5pc.utils.evaluation_utils import (\n",
    "    predictive_traces,\n",
    "    plot_traces,\n",
    "    plot_summstats,\n",
    "    compare_gt_log_probs,\n",
    "    gt_log_prob,\n",
    "    coverage,\n",
    "    plot_coverage,\n",
    ")"
   ]
  },
  {
   "cell_type": "code",
   "execution_count": 148,
   "id": "972815c2-de06-4e8b-9016-0242263217c1",
   "metadata": {},
   "outputs": [
    {
     "name": "stdout",
     "output_type": "stream",
     "text": [
      "Loading neuron libraries\n",
      "Successfully loaded libraries!\n"
     ]
    }
   ],
   "source": [
    "setup_l5pc()"
   ]
  },
  {
   "cell_type": "code",
   "execution_count": 150,
   "id": "0d3c255a-ed70-49a1-a83a-a54c6f765cbd",
   "metadata": {},
   "outputs": [],
   "source": [
    "name = \"2022_04_27__17_56_34_snpe\"\n",
    "id_ = \"l20_1\"\n",
    "inference, posterior, used_features, round_ = load_posterior(id_, name)"
   ]
  },
  {
   "cell_type": "code",
   "execution_count": 151,
   "id": "4aaa1151-53b4-482f-9b13-eeff4e5c1eb5",
   "metadata": {},
   "outputs": [
    {
     "name": "stdout",
     "output_type": "stream",
     "text": [
      "data id:  l20_1\n"
     ]
    }
   ],
   "source": [
    "data_id = \"l20_0\" if round_ == 1 else id_\n",
    "print(\"data id: \", data_id)"
   ]
  },
  {
   "cell_type": "code",
   "execution_count": 152,
   "id": "3b73879c-208e-482e-8791-84d78f764025",
   "metadata": {},
   "outputs": [],
   "source": [
    "x_db = L5PC_20D_x()\n",
    "theta_db = L5PC_20D_theta()"
   ]
  },
  {
   "cell_type": "code",
   "execution_count": 153,
   "id": "0a468e4d-4276-4bc3-ad5f-f5400b1b2674",
   "metadata": {},
   "outputs": [],
   "source": [
    "theta = as_tensor(\n",
    "    np.asarray(\n",
    "        (theta_db & {\"round\": round_} & {\"id\": id_}).fetch(*return_names())\n",
    "    ),\n",
    "    dtype=float32,\n",
    ").T\n",
    "x = as_tensor(\n",
    "    np.asarray(\n",
    "        (x_db & {\"round\": round_} & {\"id\": id_}).fetch(*return_x_names())\n",
    "    ),\n",
    "    dtype=float32,\n",
    ").T"
   ]
  },
  {
   "cell_type": "code",
   "execution_count": 156,
   "id": "91d604b6-2be0-4697-bbb6-cd84ee7a0315",
   "metadata": {},
   "outputs": [],
   "source": [
    "# trace = simulate_l5pc()"
   ]
  },
  {
   "cell_type": "code",
   "execution_count": 157,
   "id": "78b530bd-e70e-4c52-bdb8-d75c431c413e",
   "metadata": {},
   "outputs": [],
   "source": [
    "x, _ = replace_nan(x)"
   ]
  },
  {
   "cell_type": "code",
   "execution_count": 158,
   "id": "017d8a5b-00fb-49a5-9b80-616b89fb5974",
   "metadata": {},
   "outputs": [],
   "source": [
    "prior = load_prior(\"l20_1\")\n",
    "lower = prior.prior_torch.support.base_constraint.lower_bound\n",
    "upper = prior.prior_torch.support.base_constraint.upper_bound\n",
    "limits = torch.stack([lower, upper]).T"
   ]
  },
  {
   "cell_type": "code",
   "execution_count": 159,
   "id": "2b9812aa-9f06-406d-b68c-b1c5f6ca68ec",
   "metadata": {},
   "outputs": [],
   "source": [
    "x_pd = pd.DataFrame(x[-1000:].numpy(), columns=return_x_names())\n",
    "\n",
    "x = x[-1000:]\n",
    "theta = theta[-1000:]\n",
    "x, _ = replace_nan(x)"
   ]
  },
  {
   "cell_type": "code",
   "execution_count": 160,
   "id": "d8359ecf-3894-4cf9-ab9d-411e37bea1ad",
   "metadata": {},
   "outputs": [
    {
     "name": "stdout",
     "output_type": "stream",
     "text": [
      "Adding observation noise according to  data\n"
     ]
    }
   ],
   "source": [
    "x = add_observation_noise(\n",
    "    x=x,\n",
    "    id_=\"l20_1\",\n",
    "    noise_multiplier=0.0,\n",
    "    std_type=\"data\",\n",
    "    subset=None,\n",
    ")"
   ]
  },
  {
   "cell_type": "code",
   "execution_count": 161,
   "id": "7a000b65-3dbd-4d19-b3b4-da6e15d867c4",
   "metadata": {},
   "outputs": [
    {
     "data": {
      "application/vnd.jupyter.widget-view+json": {
       "model_id": "cd174cecb6e84fbfb47176c3779c54bf",
       "version_major": 2,
       "version_minor": 0
      },
      "text/plain": [
       "Drawing 1000 posterior samples:   0%|          | 0/1000 [00:00<?, ?it/s]"
      ]
     },
     "metadata": {},
     "output_type": "display_data"
    }
   ],
   "source": [
    "ind = 1\n",
    "posterior = posterior.set_default_x(x[ind:ind+1])\n",
    "samples = posterior.sample((1000,))\n",
    "log_probs = posterior.log_prob(samples)\n",
    "gt_log_prob = posterior.log_prob(theta[ind:ind+1])"
   ]
  },
  {
   "cell_type": "code",
   "execution_count": 162,
   "id": "0b6b1280-0870-4495-9f0d-0045f9f40465",
   "metadata": {},
   "outputs": [
    {
     "name": "stderr",
     "output_type": "stream",
     "text": [
      "/home/mdeistler57/anaconda3/envs/tsnpe/lib/python3.8/site-packages/matplotlib/cbook/__init__.py:1298: FutureWarning: The input object of type 'Tensor' is an array-like implementing one of the corresponding protocols (`__array__`, `__array_interface__` or `__array_struct__`); but not a sequence (or 0-D). In the future, this object will be coerced as if it was first converted using `np.array(obj)`. To retain the old behaviour, you have to either modify the type 'Tensor', or assign to an empty array created with `np.empty(correct_shape, dtype=object)`.\n",
      "  return np.asarray(x, float)\n"
     ]
    },
    {
     "data": {
      "image/png": "[encoded data removed]",
      "text/plain": [
       "<Figure size 400x300 with 1 Axes>"
      ]
     },
     "metadata": {},
     "output_type": "display_data"
    }
   ],
   "source": [
    "with mpl.rc_context(fname=\"/mnt/qb/macke/mdeistler57/tsnpe_collection/l5pc/.matplotlibrc\"):\n",
    "    fig, ax = plt.subplots(1, 1, figsize=(4, 3))\n",
    "    _ = ax.hist(log_probs.numpy(), bins=30)\n",
    "    ax.axvline(gt_log_prob, color=\"r\")"
   ]
  },
  {
   "cell_type": "code",
   "execution_count": 163,
   "id": "166d6e89-6b51-48d3-bd01-0b3084a8e8bb",
   "metadata": {
    "tags": []
   },
   "outputs": [
    {
     "data": {
      "application/vnd.jupyter.widget-view+json": {
       "model_id": "204eda4dcade4378b3806490d831bc26",
       "version_major": 2,
       "version_minor": 0
      },
      "text/plain": [
       "  0%|          | 0/100 [00:00<?, ?it/s]"
      ]
     },
     "metadata": {},
     "output_type": "display_data"
    },
    {
     "data": {
      "application/vnd.jupyter.widget-view+json": {
       "model_id": "264937ead38d4b0e9d9ae76cc785ab70",
       "version_major": 2,
       "version_minor": 0
      },
      "text/plain": [
       "0it [00:00, ?it/s]"
      ]
     },
     "metadata": {},
     "output_type": "display_data"
    }
   ],
   "source": [
    "alpha, cov = coverage(posterior, theta, x, used_features)"
   ]
  },
  {
   "cell_type": "code",
   "execution_count": 164,
   "id": "04a6f927-85cf-4f07-b2d2-29e10fa713cc",
   "metadata": {},
   "outputs": [
    {
     "data": {
      "image/png": "[encoded data removed]",
      "text/plain": [
       "<Figure size 150x150 with 1 Axes>"
      ]
     },
     "metadata": {},
     "output_type": "display_data"
    }
   ],
   "source": [
    "with mpl.rc_context(fname=\"/mnt/qb/macke/mdeistler57/tsnpe_collection/l5pc/.matplotlibrc\"):\n",
    "    plot_coverage(alpha, cov)"
   ]
  },
  {
   "cell_type": "markdown",
   "id": "11d9a4d3-0701-4cc6-8746-370fd052df8d",
   "metadata": {},
   "source": [
    "## Evaluate posterior for actual x_o"
   ]
  },
  {
   "cell_type": "code",
   "execution_count": 144,
   "id": "8baa3624-48ba-458e-a209-1d44d2138c8a",
   "metadata": {},
   "outputs": [],
   "source": [
    "inference, posterior, used_features, round_ = load_posterior(id_, name)"
   ]
  },
  {
   "cell_type": "code",
   "execution_count": 145,
   "id": "39478976-aa94-4ac8-b93a-eb3e41e41e49",
   "metadata": {},
   "outputs": [
    {
     "data": {
      "application/vnd.jupyter.widget-view+json": {
       "model_id": "f75260431cf6495e95f44bf04c636d03",
       "version_major": 2,
       "version_minor": 0
      },
      "text/plain": [
       "Drawing 1000 posterior samples:   0%|          | 0/1000 [00:00<?, ?it/s]"
      ]
     },
     "metadata": {},
     "output_type": "display_data"
    }
   ],
   "source": [
    "samples = posterior.sample((1000,))\n",
    "log_probs = posterior.log_prob(samples)\n",
    "gt = as_tensor(return_gt().to_numpy(), dtype=float32)\n",
    "gt_log_prob = posterior.log_prob(gt)"
   ]
  },
  {
   "cell_type": "code",
   "execution_count": 146,
   "id": "0ea634c9-bbff-4e22-9aa2-9a5b3d0e5ca2",
   "metadata": {},
   "outputs": [
    {
     "name": "stderr",
     "output_type": "stream",
     "text": [
      "/home/mdeistler57/anaconda3/envs/tsnpe/lib/python3.8/site-packages/matplotlib/cbook/__init__.py:1298: FutureWarning: The input object of type 'Tensor' is an array-like implementing one of the corresponding protocols (`__array__`, `__array_interface__` or `__array_struct__`); but not a sequence (or 0-D). In the future, this object will be coerced as if it was first converted using `np.array(obj)`. To retain the old behaviour, you have to either modify the type 'Tensor', or assign to an empty array created with `np.empty(correct_shape, dtype=object)`.\n",
      "  return np.asarray(x, float)\n"
     ]
    },
    {
     "data": {
      "image/png": "[encoded data removed]",
      "text/plain": [
       "<Figure size 400x300 with 1 Axes>"
      ]
     },
     "metadata": {},
     "output_type": "display_data"
    }
   ],
   "source": [
    "with mpl.rc_context(fname=\"/mnt/qb/macke/mdeistler57/tsnpe_collection/l5pc/.matplotlibrc\"):\n",
    "    fig, ax = plt.subplots(1, 1, figsize=(4, 3))\n",
    "    _ = ax.hist(log_probs.numpy(), bins=30)\n",
    "    ax.axvline(gt_log_prob, color=\"r\")"
   ]
  },
  {
   "cell_type": "code",
   "execution_count": null,
   "id": "d2269974-8059-4f97-a4f6-aa23b9fa495a",
   "metadata": {},
   "outputs": [],
   "source": []
  }
 ],
 "metadata": {
  "kernelspec": {
   "display_name": "Python 3 (ipykernel)",
   "language": "python",
   "name": "python3"
  },
  "language_info": {
   "codemirror_mode": {
    "name": "ipython",
    "version": 3
   },
   "file_extension": ".py",
   "mimetype": "text/x-python",
   "name": "python",
   "nbconvert_exporter": "python",
   "pygments_lexer": "ipython3",
   "version": "3.8.13"
  }
 },
 "nbformat": 4,
 "nbformat_minor": 5
}
